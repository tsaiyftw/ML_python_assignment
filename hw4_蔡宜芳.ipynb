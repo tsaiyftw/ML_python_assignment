{
  "nbformat": 4,
  "nbformat_minor": 0,
  "metadata": {
    "colab": {
      "name": "hw4_蔡宜芳.ipynb",
      "provenance": [],
      "collapsed_sections": []
    },
    "kernelspec": {
      "name": "python3",
      "display_name": "Python 3"
    },
    "language_info": {
      "name": "python"
    }
  },
  "cells": [
    {
      "cell_type": "code",
      "execution_count": 55,
      "metadata": {
        "colab": {
          "base_uri": "https://localhost:8080/"
        },
        "id": "sYA2JJ9Ad-f-",
        "outputId": "d1c4f1b6-b4d6-4b5c-865c-9e5abefd9e92"
      },
      "outputs": [
        {
          "output_type": "stream",
          "name": "stdout",
          "text": [
            "lease enter three integers seperating with whitespace 1 2 3 \n",
            "lease enter three integers seperating with whitespace 4 5 6 \n",
            "Please enter two integers seperating with whitespace 7 8 \n",
            "Please enter two integers seperating with whitespace 8 9\n",
            "Please enter two integers seperating with whitespace 10 11\n",
            "[[ 53  59]\n",
            " [128 143]]\n"
          ]
        }
      ],
      "source": [
        "import numpy as np\n",
        "\n",
        "try: \n",
        "  m1 = []\n",
        "  for _ in range(2):\n",
        "    row = input(\"lease enter three integers seperating with whitespace \").split()\n",
        "    list(map(lambda x :int(x), row))\n",
        "    m1.append(list(map(lambda x :int(x),row)))\n",
        "  m2 =[]\n",
        "  for _ in range(3):\n",
        "    row = input(\"Please enter two integers seperating with whitespace \").split()\n",
        "    list(map(lambda x: int(x), row))\n",
        "    m2.append(list(map(lambda x: int(x),row)))\n",
        "  print(np.matmul(np.array(m1),np.array(m2)))\n",
        "except:\n",
        "\n",
        "  print(\"Please provide correct format\")"
      ]
    },
    {
      "cell_type": "code",
      "source": [
        "try:\n",
        "  a= input(\"Please enter the socores of 10 students and seperate with whitespace \").split()\n",
        "  b =input(\"Please enter scores of 10 students and seperate with whitespace \").split()\n",
        "  c = input(\"Please enter scores of 10 students in class C and seperate with whitespace \").split()\n",
        "  if len(a) < 10:\n",
        "    print(\"Please provide 10 students' scores in class B\")\n",
        "  elif len(b) < 10:\n",
        "    print(\"please provide 10 studnets' scores in class A\")\n",
        "  elif len(c) < 10:\n",
        "    print(\"Please provide 10 students' scores in class C\")\n",
        "  else:\n",
        "    lst_a = list(map(lambda x: int(x),a))\n",
        "    lst_b = list(map(lambda x: int(x),b))\n",
        "    lst_c = list(map(lambda x: int(x),c))\n",
        "\n",
        "    print(f\"A class 總和: {np.sum(lst_a, axis=0)}, 最大: {np.max(lst_a,axis = 0)}\")\n",
        "    print(f\"B class 總和: {np.sum(lst_b, axis=0)}, 最大: {np.max(lst_b,axis = 0)}\")\n",
        "    print(f\"C class 總和: {np.sum(lst_c, axis=0)}, 最大: {np.max(lst_c,axis = 0)}\")\n",
        "\n",
        "except:\n",
        "  print(\"Please provide valid data\")"
      ],
      "metadata": {
        "colab": {
          "base_uri": "https://localhost:8080/"
        },
        "id": "xjOZTAPrhUyl",
        "outputId": "6d48feae-3d20-459d-d973-20cbd453ecc5"
      },
      "execution_count": 38,
      "outputs": [
        {
          "output_type": "stream",
          "name": "stdout",
          "text": [
            "Please enter the socores of 10 students and seperate with whitespace 32 57 89 82 98 57 88 56 93 91\n",
            "Please enter scores of 10 students and seperate with whitespace 88 93 20 70 56 83 92 100 80 97\n",
            "Please enter scores of 10 students in class C and seperate with whitespace 82 75 83 95 96 90 77 82 90 88\n",
            "A class 總和: 743, 最大: 98\n",
            "B class 總和: 779, 最大: 100\n",
            "C class 總和: 858, 最大: 96\n"
          ]
        }
      ]
    },
    {
      "cell_type": "code",
      "source": [
        ""
      ],
      "metadata": {
        "id": "b5GfA_9UU5u9"
      },
      "execution_count": null,
      "outputs": []
    }
  ]
}