{
  "nbformat": 4,
  "nbformat_minor": 0,
  "metadata": {
    "colab": {
      "name": "hw2_蔡宜芳.ipynb",
      "provenance": [],
      "collapsed_sections": []
    },
    "kernelspec": {
      "name": "python3",
      "display_name": "Python 3"
    },
    "language_info": {
      "name": "python"
    }
  },
  "cells": [
    {
      "cell_type": "code",
      "execution_count": 3,
      "metadata": {
        "colab": {
          "base_uri": "https://localhost:8080/"
        },
        "id": "SdxhQVdqngTq",
        "outputId": "15a384db-505f-4e4f-9a14-8a97d67d5d1c"
      },
      "outputs": [
        {
          "output_type": "stream",
          "name": "stdout",
          "text": [
            "Please enter a positive integer 5\n",
            "1+2+3+4+5=15\n"
          ]
        }
      ],
      "source": [
        "try:\n",
        "    num = int(input(\"Please enter a positive integer \"))\n",
        "    if num < 0:\n",
        "        print(\"Please enter a postive integer\")\n",
        "    else:\n",
        "        total = 0\n",
        "        i = 1\n",
        "        while i <= num:\n",
        "            if i == num:\n",
        "                print(i, end=\"=\")\n",
        "            else:\n",
        "                print(i, end=\"+\")\n",
        "            total += i\n",
        "            i += 1\n",
        "        print(total)\n",
        "except:\n",
        "    print(\"Please provide a valid number\")\n"
      ]
    },
    {
      "cell_type": "code",
      "source": [
        "try:\n",
        "    s = input(\"Please enter several integers and seperate with , \")\n",
        "    num = int(input(\"Please enter an integer \"))\n",
        "    temp = s.split(\",\")\n",
        "    lst = []\n",
        "    for item in temp:\n",
        "        new_item = int(item)\n",
        "        if new_item >= num:\n",
        "            lst.append(new_item)\n",
        "    print(lst)\n",
        "except:\n",
        "    print(\"Please provide correct format\")\n"
      ],
      "metadata": {
        "colab": {
          "base_uri": "https://localhost:8080/"
        },
        "id": "2atLAGuun5BX",
        "outputId": "69bdb5aa-ae0d-4f77-9592-4ee2f1fcc19e"
      },
      "execution_count": 8,
      "outputs": [
        {
          "output_type": "stream",
          "name": "stdout",
          "text": [
            "Please enter several integers and seperate with , 2,3,4,56,7\n",
            "Please enter an integer 2\n",
            "[2, 3, 4, 56, 7]\n"
          ]
        }
      ]
    },
    {
      "cell_type": "code",
      "source": [
        "try:\n",
        "    s = input(\"Please enter several integers and seperate with a whitespace \")\n",
        "    temp = s.split(\" \")\n",
        "    lst = []\n",
        "    total = 0\n",
        "    for item in temp:\n",
        "        new_item = int(item)\n",
        "        if new_item % 2 == 0:\n",
        "            total += new_item\n",
        "    print(total)\n",
        "except:\n",
        "    print(\"Please provide correct format\")"
      ],
      "metadata": {
        "colab": {
          "base_uri": "https://localhost:8080/"
        },
        "id": "gR3StT1aqwXm",
        "outputId": "4796083c-fe16-4238-9b13-3ab3a57bdad9"
      },
      "execution_count": 7,
      "outputs": [
        {
          "output_type": "stream",
          "name": "stdout",
          "text": [
            "Please enter several integeer and seperate with a whitespace 2 4 6 7 334 9 661 0\n",
            "346\n"
          ]
        }
      ]
    },
    {
      "cell_type": "code",
      "source": [
        "try:\n",
        "    s1 = input(\"Please enter a string \")\n",
        "    s2 = input(\"Please enter another string \")\n",
        "    count = 0\n",
        "    for i in range(len(s1)):\n",
        "        if s1[i:i+len(s2)] == s2:\n",
        "            count += 1\n",
        "    print(count)\n",
        "except:\n",
        "    print(\"Please provid valid format\")"
      ],
      "metadata": {
        "colab": {
          "base_uri": "https://localhost:8080/"
        },
        "id": "zPq_PoYdOBso",
        "outputId": "abf6f65e-bcaf-41c7-e881-789f9d3f889d"
      },
      "execution_count": 1,
      "outputs": [
        {
          "output_type": "stream",
          "name": "stdout",
          "text": [
            "Please enter a string asdfgcx\n",
            "Please enter another string dfg\n",
            "1\n"
          ]
        }
      ]
    }
  ]
}