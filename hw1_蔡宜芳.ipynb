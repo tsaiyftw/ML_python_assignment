{
  "nbformat": 4,
  "nbformat_minor": 0,
  "metadata": {
    "colab": {
      "name": "hw1_蔡宜芳.ipynb",
      "provenance": [],
      "collapsed_sections": []
    },
    "kernelspec": {
      "name": "python3",
      "display_name": "Python 3"
    },
    "language_info": {
      "name": "python"
    }
  },
  "cells": [
    {
      "cell_type": "code",
      "execution_count": 3,
      "metadata": {
        "colab": {
          "base_uri": "https://localhost:8080/"
        },
        "id": "gW4UjratkFGj",
        "outputId": "409db6ea-0904-476a-f128-66adfc2295a5"
      },
      "outputs": [
        {
          "output_type": "stream",
          "name": "stdout",
          "text": [
            "Please enter an integer ff\n",
            "Please provide a valid interger\n"
          ]
        }
      ],
      "source": [
        "try:\n",
        "    int_a = int(input(\"Please enter an integer \"))\n",
        "    int_b = int(input(\"Please enter another integer \"))\n",
        "    print(f\"The answer is {int_a/int_b:.2f}\")\n",
        "except:\n",
        "    print(\"Please provide a valid integer\")"
      ]
    },
    {
      "cell_type": "code",
      "source": [
        "try:\n",
        "    num = int(input(\"Please enter an integer \"))\n",
        "\n",
        "    if num % 2 == 0 and num % 3 == 0:\n",
        "        print(\"The integer is 6 的倍數\")\n",
        "    elif num % 2 == 0 and num % 3 != 0:\n",
        "        print(\"The integer is 2 的倍數\")\n",
        "    elif num % 2 != 0 and num % 3 == 0:\n",
        "        print(\"The integer is 3 的倍數\")\n",
        "    else:\n",
        "        print(\"The integer is not 2 or 3的倍數\")\n",
        "\n",
        "except:\n",
        "    print(\"Please provide a valid interger\")"
      ],
      "metadata": {
        "colab": {
          "base_uri": "https://localhost:8080/"
        },
        "id": "x9FZLGJqyXE_",
        "outputId": "23e16006-4c75-454d-b55f-b53e9d65c86e"
      },
      "execution_count": 3,
      "outputs": [
        {
          "output_type": "stream",
          "name": "stdout",
          "text": [
            "Please enter an integer 666\n",
            "The integer is 6 的倍數\n"
          ]
        }
      ]
    },
    {
      "cell_type": "code",
      "source": [
        "try:\n",
        "    num = int(input(\"Please enter an integer (unit: second) \"))\n",
        "\n",
        "    hr = num//3600\n",
        "    min = (num % 3600)//60\n",
        "    sec = (num % 3600) % 60\n",
        "\n",
        "    print(f\"{hr} 時 {min} 分 {sec} 秒\")\n",
        "\n",
        "except:\n",
        "    print(\"Pleasee provide a valid integer\")"
      ],
      "metadata": {
        "colab": {
          "base_uri": "https://localhost:8080/"
        },
        "id": "CxZad_Yhrwzk",
        "outputId": "4a5000cc-6e63-4130-fa6a-6aa4deba4bdc"
      },
      "execution_count": 4,
      "outputs": [
        {
          "output_type": "stream",
          "name": "stdout",
          "text": [
            "Please enter an integer (unit: second) 25628\n",
            "7 時 7 分 8 秒\n"
          ]
        }
      ]
    },
    {
      "cell_type": "code",
      "source": [
        "try:\n",
        "    num = int(input(\"Please enter a positive even integer \"))\n",
        "    if num % 2 != 0 or num < 0:\n",
        "        print(\"Not a valid number\")\n",
        "    else:\n",
        "      i = 1\n",
        "      while num > i:\n",
        "          print(i, end=\" \")\n",
        "          i += 2\n",
        "except:\n",
        "    print(\"Please provide a valid integer\")"
      ],
      "metadata": {
        "colab": {
          "base_uri": "https://localhost:8080/"
        },
        "id": "A_i2c8XNx0bK",
        "outputId": "66530367-72c5-45d2-d462-55736c186483"
      },
      "execution_count": 14,
      "outputs": [
        {
          "output_type": "stream",
          "name": "stdout",
          "text": [
            "Please enter a positive even integer -6\n",
            "Not a valid number\n"
          ]
        }
      ]
    }
  ]
}